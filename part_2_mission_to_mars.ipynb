{
 "cells": [
  {
   "cell_type": "markdown",
   "id": "f168dcb1",
   "metadata": {},
   "source": [
    "# Deliverable 2: Scrape and Analyse the Mars Weather Data"
   ]
  },
  {
   "cell_type": "code",
   "execution_count": 33,
   "id": "0a937072",
   "metadata": {},
   "outputs": [],
   "source": [
    "# Import relevant libraries\n",
    "import pandas as pd\n",
    "import matplotlib.pyplot as plt\n",
    "from splinter import Browser\n",
    "from bs4 import BeautifulSoup as soup\n",
    "from webdriver_manager.chrome import ChromeDriverManager\n"
   ]
  },
  {
   "cell_type": "code",
   "execution_count": 34,
   "id": "c88dba0f",
   "metadata": {},
   "outputs": [],
   "source": [
    "executable_path = {'executable_path': ChromeDriverManager().install()}\n",
    "browser = Browser('chrome', **executable_path, headless=False)"
   ]
  },
  {
   "cell_type": "markdown",
   "id": "4862c401",
   "metadata": {},
   "source": [
    "# 1: Visit the Website"
   ]
  },
  {
   "cell_type": "code",
   "execution_count": 35,
   "id": "a4ece506",
   "metadata": {},
   "outputs": [],
   "source": [
    "# https://data-class-mars-challenge.s3.amazonaws.com/Mars/index.html\n",
    "url = 'https://data-class-mars-challenge.s3.amazonaws.com/Mars/index.html'\n",
    "browser.visit(url)"
   ]
  },
  {
   "cell_type": "markdown",
   "id": "ce1f40c1",
   "metadata": {},
   "source": [
    "# 2: Scrape the Table"
   ]
  },
  {
   "cell_type": "code",
   "execution_count": 36,
   "id": "15dfbaa0",
   "metadata": {},
   "outputs": [],
   "source": [
    "# Produce Beautiful Soup\n",
    "html = browser.html\n",
    "sp = soup(html, 'html.parser')"
   ]
  },
  {
   "cell_type": "code",
   "execution_count": 37,
   "id": "6da07820",
   "metadata": {},
   "outputs": [],
   "source": [
    "# Extract all rows and headers from data\n",
    "headers = sp.find_all('th')\n",
    "results = sp.find('table', class_='table')\n",
    "\n",
    "info = sp.find_all('tr', class_='data-row')"
   ]
  },
  {
   "cell_type": "markdown",
   "id": "b47c2883",
   "metadata": {},
   "source": [
    "# 3: Store the Data"
   ]
  },
  {
   "cell_type": "code",
   "execution_count": 38,
   "id": "b932345f",
   "metadata": {},
   "outputs": [],
   "source": [
    "# Create an empty list\n",
    "table_headers = []\n",
    "id = []\n",
    "terrestrial_date = []\n",
    "pressure = []\n",
    "sol = []\n",
    "month = []\n",
    "ls = []\n",
    "min_temp = []\n",
    "\n",
    "# Retrieve and append all table headers\n",
    "for header in headers:\n",
    "    table_headers.append(header.text)\n",
    "    \n",
    "# retrieve all the data provided\n",
    "for i in info:\n",
    "\n",
    "    # id\n",
    "    mars_data_id = i.find('td')\n",
    "    id.append(int(mars_data_id.text))\n",
    "    \n",
    "    # terrestial dates\n",
    "    terrestrial_date.append(mars_data_id.find_next_sibling('td').text)\n",
    "    mars_data_id = mars_data_id.find_next_sibling('td')\n",
    "    \n",
    "    # sol\n",
    "    sol.append(int(mars_data_id.find_next_sibling(\"td\").text))\n",
    "    mars_data_id = mars_data_id.find_next_sibling(\"td\")\n",
    "    \n",
    "    # ls\n",
    "    ls.append(int(mars_data_id.find_next_sibling(\"td\").text))\n",
    "    mars_data_id = mars_data_id.find_next_sibling('td')\n",
    "    \n",
    "    # month\n",
    "    month.append(int(mars_data_id.find_next_sibling(\"td\").text))\n",
    "    mars_data_id = mars_data_id.find_next_sibling(\"td\")\n",
    "    \n",
    "    # min_temp\n",
    "    min_temp.append(float(mars_data_id.find_next_sibling(\"td\").text))\n",
    "    mars_data_id = mars_data_id.find_next_sibling(\"td\")\n",
    "    \n",
    "    # pressure\n",
    "    pressure.append(float(mars_data_id.find_next_sibling(\"td\").text))"
   ]
  },
  {
   "cell_type": "code",
   "execution_count": 39,
   "id": "40cf2e0c",
   "metadata": {},
   "outputs": [],
   "source": [
    "# Create a Pandas DataFrame\n",
    "mars_data_df = pd.DataFrame(columns = table_headers)\n",
    "mars_data_df[\"id\"] = id\n",
    "mars_data_df[\"terrestrial_date\"] = terrestrial_date\n",
    "mars_data_df[\"sol\"] = sol\n",
    "mars_data_df[\"pressure\"] = pressure\n",
    "mars_data_df[\"month\"] = month\n",
    "mars_data_df[\"ls\"] = ls\n",
    "mars_data_df[\"min_temp\"] = min_temp\n"
   ]
  },
  {
   "cell_type": "code",
   "execution_count": 40,
   "id": "16383822",
   "metadata": {},
   "outputs": [
    {
     "data": {
      "text/html": [
       "<div>\n",
       "<style scoped>\n",
       "    .dataframe tbody tr th:only-of-type {\n",
       "        vertical-align: middle;\n",
       "    }\n",
       "\n",
       "    .dataframe tbody tr th {\n",
       "        vertical-align: top;\n",
       "    }\n",
       "\n",
       "    .dataframe thead th {\n",
       "        text-align: right;\n",
       "    }\n",
       "</style>\n",
       "<table border=\"1\" class=\"dataframe\">\n",
       "  <thead>\n",
       "    <tr style=\"text-align: right;\">\n",
       "      <th></th>\n",
       "      <th>id</th>\n",
       "      <th>terrestrial_date</th>\n",
       "      <th>sol</th>\n",
       "      <th>ls</th>\n",
       "      <th>month</th>\n",
       "      <th>min_temp</th>\n",
       "      <th>pressure</th>\n",
       "    </tr>\n",
       "  </thead>\n",
       "  <tbody>\n",
       "    <tr>\n",
       "      <th>0</th>\n",
       "      <td>2</td>\n",
       "      <td>2012-08-16</td>\n",
       "      <td>10</td>\n",
       "      <td>155</td>\n",
       "      <td>6</td>\n",
       "      <td>-75.0</td>\n",
       "      <td>739.0</td>\n",
       "    </tr>\n",
       "    <tr>\n",
       "      <th>1</th>\n",
       "      <td>13</td>\n",
       "      <td>2012-08-17</td>\n",
       "      <td>11</td>\n",
       "      <td>156</td>\n",
       "      <td>6</td>\n",
       "      <td>-76.0</td>\n",
       "      <td>740.0</td>\n",
       "    </tr>\n",
       "    <tr>\n",
       "      <th>2</th>\n",
       "      <td>24</td>\n",
       "      <td>2012-08-18</td>\n",
       "      <td>12</td>\n",
       "      <td>156</td>\n",
       "      <td>6</td>\n",
       "      <td>-76.0</td>\n",
       "      <td>741.0</td>\n",
       "    </tr>\n",
       "    <tr>\n",
       "      <th>3</th>\n",
       "      <td>35</td>\n",
       "      <td>2012-08-19</td>\n",
       "      <td>13</td>\n",
       "      <td>157</td>\n",
       "      <td>6</td>\n",
       "      <td>-74.0</td>\n",
       "      <td>732.0</td>\n",
       "    </tr>\n",
       "    <tr>\n",
       "      <th>4</th>\n",
       "      <td>46</td>\n",
       "      <td>2012-08-20</td>\n",
       "      <td>14</td>\n",
       "      <td>157</td>\n",
       "      <td>6</td>\n",
       "      <td>-74.0</td>\n",
       "      <td>740.0</td>\n",
       "    </tr>\n",
       "    <tr>\n",
       "      <th>...</th>\n",
       "      <td>...</td>\n",
       "      <td>...</td>\n",
       "      <td>...</td>\n",
       "      <td>...</td>\n",
       "      <td>...</td>\n",
       "      <td>...</td>\n",
       "      <td>...</td>\n",
       "    </tr>\n",
       "    <tr>\n",
       "      <th>1862</th>\n",
       "      <td>1889</td>\n",
       "      <td>2018-02-23</td>\n",
       "      <td>1973</td>\n",
       "      <td>133</td>\n",
       "      <td>5</td>\n",
       "      <td>-78.0</td>\n",
       "      <td>730.0</td>\n",
       "    </tr>\n",
       "    <tr>\n",
       "      <th>1863</th>\n",
       "      <td>1892</td>\n",
       "      <td>2018-02-24</td>\n",
       "      <td>1974</td>\n",
       "      <td>134</td>\n",
       "      <td>5</td>\n",
       "      <td>-77.0</td>\n",
       "      <td>729.0</td>\n",
       "    </tr>\n",
       "    <tr>\n",
       "      <th>1864</th>\n",
       "      <td>1894</td>\n",
       "      <td>2018-02-25</td>\n",
       "      <td>1975</td>\n",
       "      <td>134</td>\n",
       "      <td>5</td>\n",
       "      <td>-76.0</td>\n",
       "      <td>729.0</td>\n",
       "    </tr>\n",
       "    <tr>\n",
       "      <th>1865</th>\n",
       "      <td>1893</td>\n",
       "      <td>2018-02-26</td>\n",
       "      <td>1976</td>\n",
       "      <td>135</td>\n",
       "      <td>5</td>\n",
       "      <td>-77.0</td>\n",
       "      <td>728.0</td>\n",
       "    </tr>\n",
       "    <tr>\n",
       "      <th>1866</th>\n",
       "      <td>1895</td>\n",
       "      <td>2018-02-27</td>\n",
       "      <td>1977</td>\n",
       "      <td>135</td>\n",
       "      <td>5</td>\n",
       "      <td>-77.0</td>\n",
       "      <td>727.0</td>\n",
       "    </tr>\n",
       "  </tbody>\n",
       "</table>\n",
       "<p>1867 rows × 7 columns</p>\n",
       "</div>"
      ],
      "text/plain": [
       "        id terrestrial_date   sol   ls  month  min_temp  pressure\n",
       "0        2       2012-08-16    10  155      6     -75.0     739.0\n",
       "1       13       2012-08-17    11  156      6     -76.0     740.0\n",
       "2       24       2012-08-18    12  156      6     -76.0     741.0\n",
       "3       35       2012-08-19    13  157      6     -74.0     732.0\n",
       "4       46       2012-08-20    14  157      6     -74.0     740.0\n",
       "...    ...              ...   ...  ...    ...       ...       ...\n",
       "1862  1889       2018-02-23  1973  133      5     -78.0     730.0\n",
       "1863  1892       2018-02-24  1974  134      5     -77.0     729.0\n",
       "1864  1894       2018-02-25  1975  134      5     -76.0     729.0\n",
       "1865  1893       2018-02-26  1976  135      5     -77.0     728.0\n",
       "1866  1895       2018-02-27  1977  135      5     -77.0     727.0\n",
       "\n",
       "[1867 rows x 7 columns]"
      ]
     },
     "execution_count": 40,
     "metadata": {},
     "output_type": "execute_result"
    }
   ],
   "source": [
    "mars_data_df"
   ]
  },
  {
   "cell_type": "markdown",
   "id": "ea77ed39",
   "metadata": {},
   "source": [
    "#  4: Prepare Data"
   ]
  },
  {
   "cell_type": "code",
   "execution_count": 41,
   "id": "d26feb6d",
   "metadata": {},
   "outputs": [
    {
     "data": {
      "text/plain": [
       "id                    int64\n",
       "terrestrial_date     object\n",
       "sol                   int64\n",
       "ls                    int64\n",
       "month                 int64\n",
       "min_temp            float64\n",
       "pressure            float64\n",
       "dtype: object"
      ]
     },
     "execution_count": 41,
     "metadata": {},
     "output_type": "execute_result"
    }
   ],
   "source": [
    "# Examine data type of each column\n",
    "mars_data_df.dtypes"
   ]
  },
  {
   "cell_type": "code",
   "execution_count": 42,
   "id": "99df58d6",
   "metadata": {},
   "outputs": [],
   "source": [
    "# Change data types for data analysis\n",
    "mars_data_df = mars_data_df.astype({'terrestrial_date':'datetime64'})"
   ]
  },
  {
   "cell_type": "code",
   "execution_count": 43,
   "id": "df190743",
   "metadata": {},
   "outputs": [
    {
     "data": {
      "text/plain": [
       "id                           int64\n",
       "terrestrial_date    datetime64[ns]\n",
       "sol                          int64\n",
       "ls                           int64\n",
       "month                        int64\n",
       "min_temp                   float64\n",
       "pressure                   float64\n",
       "dtype: object"
      ]
     },
     "execution_count": 43,
     "metadata": {},
     "output_type": "execute_result"
    }
   ],
   "source": [
    "mars_data_df.dtypes\n"
   ]
  },
  {
   "cell_type": "markdown",
   "id": "32145751",
   "metadata": {},
   "source": [
    "# Fifth Step: Analyse the Data"
   ]
  },
  {
   "cell_type": "code",
   "execution_count": 44,
   "id": "b5e8ec09",
   "metadata": {},
   "outputs": [
    {
     "name": "stdout",
     "output_type": "stream",
     "text": [
      "There are 12 months on Mars.\n",
      "The following are the 12 months, with the number of occurences in the dataset:\n",
      "month\n",
      "1     174\n",
      "2     178\n",
      "3     192\n",
      "4     194\n",
      "5     149\n",
      "6     147\n",
      "7     142\n",
      "8     141\n",
      "9     134\n",
      "10    112\n",
      "11    138\n",
      "12    166\n",
      "Name: id, dtype: int64\n"
     ]
    }
   ],
   "source": [
    "# 1. How many months are there on Mars?\n",
    "\n",
    "months =  mars_data_df.groupby('month')['id'].nunique()\n",
    "number_of_months = mars_data_df['month'].nunique()\n",
    "\n",
    "\n",
    "print(f\"There are {number_of_months} months on Mars.\")\n",
    "print(f\"The following are the {number_of_months} months, with the number of occurences in the dataset:\")\n",
    "print(months)"
   ]
  },
  {
   "cell_type": "code",
   "execution_count": 45,
   "id": "7f06fb50",
   "metadata": {},
   "outputs": [
    {
     "name": "stdout",
     "output_type": "stream",
     "text": [
      "There are 1867 Martian days' worth of data in the dataset.\n"
     ]
    }
   ],
   "source": [
    "# 2. How many Martian (and not Earth) days worth of data exist in the scraped dataset?\n",
    "\n",
    "data_martian_days = mars_data_df['sol'].nunique()\n",
    "print(f\"There are {data_martian_days} Martian days' worth of data in the dataset.\")\n",
    "\n",
    "\n",
    "\n"
   ]
  },
  {
   "cell_type": "code",
   "execution_count": 46,
   "id": "20197ef7",
   "metadata": {},
   "outputs": [
    {
     "data": {
      "text/plain": [
       "month\n",
       "1    -77.160920\n",
       "2    -79.932584\n",
       "3    -83.307292\n",
       "4    -82.747423\n",
       "5    -79.308725\n",
       "6    -75.299320\n",
       "7    -72.281690\n",
       "8    -68.382979\n",
       "9    -69.171642\n",
       "10   -71.982143\n",
       "11   -71.985507\n",
       "12   -74.451807\n",
       "Name: min_temp, dtype: float64"
      ]
     },
     "execution_count": 46,
     "metadata": {},
     "output_type": "execute_result"
    }
   ],
   "source": [
    "# 3.What are the coldest and the warmest months on Mars (at the location of Curiosity)? To answer this question:\n",
    "#   Find the average the minimum daily temperature for all of the months.\n",
    "#   Plot the results as a bar chart.\n",
    "\n",
    "average_low_temperature = mars_data_df.groupby('month')['min_temp'].mean()\n",
    "average_low_temperature"
   ]
  },
  {
   "cell_type": "code",
   "execution_count": 47,
   "id": "13e29a7b",
   "metadata": {},
   "outputs": [
    {
     "data": {
      "image/png": "[encoded data removed]",
      "text/plain": [
       "<Figure size 432x288 with 1 Axes>"
      ]
     },
     "metadata": {
      "needs_background": "light"
     },
     "output_type": "display_data"
    }
   ],
   "source": [
    "average_low_temperature.plot(kind=\"bar\", ylabel=\"Temperature in Celcius\", title=\"Average Minimum Temperature by Month\")\n",
    "plt.show()"
   ]
  },
  {
   "cell_type": "code",
   "execution_count": 48,
   "id": "0329524a",
   "metadata": {},
   "outputs": [
    {
     "name": "stdout",
     "output_type": "stream",
     "text": [
      "The coldest month in Curiosity's location is 3 and the hottest month in Curiosity's location is 8.\n"
     ]
    },
    {
     "data": {
      "image/png": "[encoded data removed]",
      "text/plain": [
       "<Figure size 432x288 with 1 Axes>"
      ]
     },
     "metadata": {
      "needs_background": "light"
     },
     "output_type": "display_data"
    }
   ],
   "source": [
    "# Identify the coldest and hottest months in Curiosity's location\n",
    "\n",
    "curiosity_average_low_temp = average_low_temperature.sort_values()\n",
    "\n",
    "coldest_month = curiosity_average_low_temp.index[0]\n",
    "hottest_month = curiosity_average_low_temp.index[-1]\n",
    "\n",
    "print(f\"The coldest month in Curiosity's location is {coldest_month} and the hottest month in Curiosity's location is {hottest_month}.\")\n",
    "\n",
    "curiosity_average_low_temp.plot(kind=\"bar\", ylabel=\"Temperature in Celcius\", title=\"Average Min Temperature by month\")\n",
    "plt.show()\n",
    "\n",
    "\n",
    "\n"
   ]
  },
  {
   "cell_type": "code",
   "execution_count": 49,
   "id": "387d798e",
   "metadata": {},
   "outputs": [
    {
     "data": {
      "text/plain": [
       "month\n",
       "1     862.488506\n",
       "2     889.455056\n",
       "3     877.322917\n",
       "4     806.329897\n",
       "5     748.557047\n",
       "6     745.054422\n",
       "7     795.105634\n",
       "8     873.829787\n",
       "9     913.305970\n",
       "10    887.312500\n",
       "11    857.014493\n",
       "12    842.156627\n",
       "Name: pressure, dtype: float64"
      ]
     },
     "execution_count": 49,
     "metadata": {},
     "output_type": "execute_result"
    }
   ],
   "source": [
    "# 4. Which months have the lowest and the highest atmospheric pressure on Mars? To answer this question:\n",
    "#    Find the average the daily atmospheric pressure of all the months.\n",
    "#    Plot the results as a bar chart.\n",
    "\n",
    "\n",
    "average_pressure = mars_data_df.groupby('month')['pressure'].mean()\n",
    "average_pressure\n",
    "\n"
   ]
  },
  {
   "cell_type": "code",
   "execution_count": 50,
   "id": "dc4c4767",
   "metadata": {},
   "outputs": [
    {
     "name": "stdout",
     "output_type": "stream",
     "text": [
      "The month with the lowest atmospheric pressure is 6 and month with the highest atmospheric pressure is 9.\n"
     ]
    },
    {
     "data": {
      "image/png": "[encoded data removed]",
      "text/plain": [
       "<Figure size 432x288 with 1 Axes>"
      ]
     },
     "metadata": {
      "needs_background": "light"
     },
     "output_type": "display_data"
    }
   ],
   "source": [
    "average_pressure_mars = average_pressure.sort_values()\n",
    "\n",
    "lowest_pressure = average_pressure_mars.index[0]\n",
    "highest_pressure = average_pressure_mars.index[-1]\n",
    "\n",
    "print(f\"The month with the lowest atmospheric pressure is {lowest_pressure} and month with the highest atmospheric pressure is {highest_pressure}.\")\n",
    "\n",
    "average_pressure_mars.plot(kind=\"bar\", ylabel=\"Atmospheric Pressure\", title=\"Average Pressure by month\")\n",
    "plt.show()"
   ]
  },
  {
   "cell_type": "code",
   "execution_count": 51,
   "id": "b0cd7c7c",
   "metadata": {},
   "outputs": [
    {
     "data": {
      "image/png": "[encoded data removed]",
      "text/plain": [
       "<Figure size 432x288 with 1 Axes>"
      ]
     },
     "metadata": {
      "needs_background": "light"
     },
     "output_type": "display_data"
    }
   ],
   "source": [
    "# 5. About how many terrestrial (Earth) days exist in a Martian year? To answer this question:\n",
    "#    Consider how many days elapse on Earth in the time that Mars circles the Sun once.\n",
    "#    Visually estimate the result by plotting the daily minimum temperature.\n",
    "\n",
    "x = mars_data_df['sol']\n",
    "y = mars_data_df['min_temp']\n",
    "plt.plot(x, y)\n",
    "plt.ylabel('Minimum Temperature')\n",
    "plt.xlabel('Number of Terrestrial Days')\n",
    "plt.show()"
   ]
  },
  {
   "cell_type": "code",
   "execution_count": 52,
   "id": "9c815b6e",
   "metadata": {},
   "outputs": [
    {
     "data": {
      "text/html": [
       "<div>\n",
       "<style scoped>\n",
       "    .dataframe tbody tr th:only-of-type {\n",
       "        vertical-align: middle;\n",
       "    }\n",
       "\n",
       "    .dataframe tbody tr th {\n",
       "        vertical-align: top;\n",
       "    }\n",
       "\n",
       "    .dataframe thead th {\n",
       "        text-align: right;\n",
       "    }\n",
       "</style>\n",
       "<table border=\"1\" class=\"dataframe\">\n",
       "  <thead>\n",
       "    <tr style=\"text-align: right;\">\n",
       "      <th></th>\n",
       "      <th>min_temp</th>\n",
       "      <th>sol</th>\n",
       "    </tr>\n",
       "  </thead>\n",
       "  <tbody>\n",
       "    <tr>\n",
       "      <th>0</th>\n",
       "      <td>-75.0</td>\n",
       "      <td>10</td>\n",
       "    </tr>\n",
       "    <tr>\n",
       "      <th>1</th>\n",
       "      <td>-76.0</td>\n",
       "      <td>11</td>\n",
       "    </tr>\n",
       "    <tr>\n",
       "      <th>2</th>\n",
       "      <td>-76.0</td>\n",
       "      <td>12</td>\n",
       "    </tr>\n",
       "    <tr>\n",
       "      <th>3</th>\n",
       "      <td>-74.0</td>\n",
       "      <td>13</td>\n",
       "    </tr>\n",
       "    <tr>\n",
       "      <th>4</th>\n",
       "      <td>-74.0</td>\n",
       "      <td>14</td>\n",
       "    </tr>\n",
       "    <tr>\n",
       "      <th>...</th>\n",
       "      <td>...</td>\n",
       "      <td>...</td>\n",
       "    </tr>\n",
       "    <tr>\n",
       "      <th>1862</th>\n",
       "      <td>-78.0</td>\n",
       "      <td>1973</td>\n",
       "    </tr>\n",
       "    <tr>\n",
       "      <th>1863</th>\n",
       "      <td>-77.0</td>\n",
       "      <td>1974</td>\n",
       "    </tr>\n",
       "    <tr>\n",
       "      <th>1864</th>\n",
       "      <td>-76.0</td>\n",
       "      <td>1975</td>\n",
       "    </tr>\n",
       "    <tr>\n",
       "      <th>1865</th>\n",
       "      <td>-77.0</td>\n",
       "      <td>1976</td>\n",
       "    </tr>\n",
       "    <tr>\n",
       "      <th>1866</th>\n",
       "      <td>-77.0</td>\n",
       "      <td>1977</td>\n",
       "    </tr>\n",
       "  </tbody>\n",
       "</table>\n",
       "<p>1867 rows × 2 columns</p>\n",
       "</div>"
      ],
      "text/plain": [
       "      min_temp   sol\n",
       "0        -75.0    10\n",
       "1        -76.0    11\n",
       "2        -76.0    12\n",
       "3        -74.0    13\n",
       "4        -74.0    14\n",
       "...        ...   ...\n",
       "1862     -78.0  1973\n",
       "1863     -77.0  1974\n",
       "1864     -76.0  1975\n",
       "1865     -77.0  1976\n",
       "1866     -77.0  1977\n",
       "\n",
       "[1867 rows x 2 columns]"
      ]
     },
     "execution_count": 52,
     "metadata": {},
     "output_type": "execute_result"
    }
   ],
   "source": [
    "min_temp_mars = mars_data_df[['min_temp', 'sol']]\n",
    "min_temp_mars"
   ]
  },
  {
   "cell_type": "code",
   "execution_count": 53,
   "id": "3a8027fe",
   "metadata": {},
   "outputs": [
    {
     "data": {
      "text/html": [
       "<div>\n",
       "<style scoped>\n",
       "    .dataframe tbody tr th:only-of-type {\n",
       "        vertical-align: middle;\n",
       "    }\n",
       "\n",
       "    .dataframe tbody tr th {\n",
       "        vertical-align: top;\n",
       "    }\n",
       "\n",
       "    .dataframe thead th {\n",
       "        text-align: right;\n",
       "    }\n",
       "</style>\n",
       "<table border=\"1\" class=\"dataframe\">\n",
       "  <thead>\n",
       "    <tr style=\"text-align: right;\">\n",
       "      <th></th>\n",
       "      <th>min_temp</th>\n",
       "      <th>sol</th>\n",
       "    </tr>\n",
       "  </thead>\n",
       "  <tbody>\n",
       "    <tr>\n",
       "      <th>1582</th>\n",
       "      <td>-62.0</td>\n",
       "      <td>1692</td>\n",
       "    </tr>\n",
       "    <tr>\n",
       "      <th>926</th>\n",
       "      <td>-63.0</td>\n",
       "      <td>1020</td>\n",
       "    </tr>\n",
       "    <tr>\n",
       "      <th>138</th>\n",
       "      <td>-63.0</td>\n",
       "      <td>152</td>\n",
       "    </tr>\n",
       "    <tr>\n",
       "      <th>129</th>\n",
       "      <td>-63.0</td>\n",
       "      <td>143</td>\n",
       "    </tr>\n",
       "    <tr>\n",
       "      <th>95</th>\n",
       "      <td>-64.0</td>\n",
       "      <td>109</td>\n",
       "    </tr>\n",
       "    <tr>\n",
       "      <th>150</th>\n",
       "      <td>-64.0</td>\n",
       "      <td>164</td>\n",
       "    </tr>\n",
       "    <tr>\n",
       "      <th>143</th>\n",
       "      <td>-64.0</td>\n",
       "      <td>157</td>\n",
       "    </tr>\n",
       "    <tr>\n",
       "      <th>141</th>\n",
       "      <td>-64.0</td>\n",
       "      <td>155</td>\n",
       "    </tr>\n",
       "    <tr>\n",
       "      <th>136</th>\n",
       "      <td>-64.0</td>\n",
       "      <td>150</td>\n",
       "    </tr>\n",
       "    <tr>\n",
       "      <th>131</th>\n",
       "      <td>-64.0</td>\n",
       "      <td>145</td>\n",
       "    </tr>\n",
       "  </tbody>\n",
       "</table>\n",
       "</div>"
      ],
      "text/plain": [
       "      min_temp   sol\n",
       "1582     -62.0  1692\n",
       "926      -63.0  1020\n",
       "138      -63.0   152\n",
       "129      -63.0   143\n",
       "95       -64.0   109\n",
       "150      -64.0   164\n",
       "143      -64.0   157\n",
       "141      -64.0   155\n",
       "136      -64.0   150\n",
       "131      -64.0   145"
      ]
     },
     "execution_count": 53,
     "metadata": {},
     "output_type": "execute_result"
    }
   ],
   "source": [
    "min_temp_mars = min_temp_mars.sort_values('min_temp', ascending=False)\n",
    "\n",
    "min_temp_mars.head(10)\n",
    "\n",
    "\n"
   ]
  },
  {
   "cell_type": "code",
   "execution_count": 57,
   "id": "fc1a1073",
   "metadata": {},
   "outputs": [
    {
     "name": "stdout",
     "output_type": "stream",
     "text": [
      "The data is organised to be able to obtain peak temperatures. The two peak temperatures are on sols 1582 and 926 respectively. The difference between these two days is 656. Therefore, we can assume that a Mars year is approximately 656 earth days. On google, a Mars year is said to be 687 earth days long. Therefore, as shown with the analysis, there is an insginificant difference between the dataset values and the estimated days in a year on Mars from a google search.\n"
     ]
    }
   ],
   "source": [
    "mars_days_year = min_temp_mars.index[0] - min_temp_mars.index[1]\n",
    "\n",
    "conclusion = (\n",
    "    f\"The data is organised to be able to obtain peak temperatures.\"\n",
    "    f\" The two peak temperatures are on sols {min_temp_mars.index[0]} and {min_temp_mars.index[1]} respectively.\"\n",
    "    f\" The difference between these two days is {mars_days_year}. Therefore, we can assume that a Mars year is approximately {mars_days_year} earth days.\"\n",
    "    f\" On google, a Mars year is said to be 687 earth days long. Therefore, as shown with the analysis, there is an insginificant difference between the dataset values and the estimated days in a year on Mars from a google search.\"\n",
    ")    \n",
    "print(conclusion)"
   ]
  },
  {
   "cell_type": "markdown",
   "id": "db372bc1",
   "metadata": {},
   "source": [
    "# 6: Save Data"
   ]
  },
  {
   "cell_type": "code",
   "execution_count": 58,
   "id": "0d4dd079",
   "metadata": {},
   "outputs": [],
   "source": [
    "# Write the data to a CSV\n",
    "csv_file = \"./output_files/mars_data.csv\"\n",
    "\n",
    "mars_data_df.to_csv(csv_file, header=True, index=False)"
   ]
  },
  {
   "cell_type": "code",
   "execution_count": 59,
   "id": "598949be",
   "metadata": {},
   "outputs": [],
   "source": [
    "browser.quit()"
   ]
  },
  {
   "cell_type": "code",
   "execution_count": null,
   "id": "13fe16ec",
   "metadata": {},
   "outputs": [],
   "source": []
  }
 ],
 "metadata": {
  "kernelspec": {
   "display_name": "Python 3 (ipykernel)",
   "language": "python",
   "name": "python3"
  },
  "language_info": {
   "codemirror_mode": {
    "name": "ipython",
    "version": 3
   },
   "file_extension": ".py",
   "mimetype": "text/x-python",
   "name": "python",
   "nbconvert_exporter": "python",
   "pygments_lexer": "ipython3",
   "version": "3.9.12"
  }
 },
 "nbformat": 4,
 "nbformat_minor": 5
}
