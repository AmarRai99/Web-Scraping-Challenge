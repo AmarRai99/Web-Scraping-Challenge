{
 "cells": [
  {
   "cell_type": "code",
   "execution_count": 13,
   "id": "3cc5795a",
   "metadata": {},
   "outputs": [],
   "source": [
    "# import the required built-in modules as well as Splinter and Beautiful Soup\n",
    "import pandas as pd\n",
    "import json\n",
    "\n",
    "from splinter import Browser\n",
    "from bs4 import BeautifulSoup as soup\n",
    "from webdriver_manager.chrome import ChromeDriverManager"
   ]
  },
  {
   "cell_type": "code",
   "execution_count": 14,
   "id": "e8f0d3a0",
   "metadata": {},
   "outputs": [
    {
     "name": "stderr",
     "output_type": "stream",
     "text": [
      "[WDM] - Downloading: 100%|█████████████████| 8.72M/8.72M [00:01<00:00, 6.49MB/s]\n"
     ]
    }
   ],
   "source": [
    "executable_path = {'executable_path': ChromeDriverManager().install()}\n",
    "browser = Browser('chrome', **executable_path, headless=False)"
   ]
  },
  {
   "cell_type": "markdown",
   "id": "d14fdb22",
   "metadata": {},
   "source": [
    "# First Step: Use the automated browsing "
   ]
  },
  {
   "cell_type": "code",
   "execution_count": 15,
   "id": "7bf915a3",
   "metadata": {},
   "outputs": [],
   "source": [
    "# Visit the Mars NASA news site: https://redplanetscience.com\n",
    "url = 'https://redplanetscience.com'\n",
    "browser.visit(url)"
   ]
  },
  {
   "cell_type": "markdown",
   "id": "6d43e877",
   "metadata": {},
   "source": [
    "# Second Step: Scraping "
   ]
  },
  {
   "cell_type": "code",
   "execution_count": 16,
   "id": "e6530005",
   "metadata": {},
   "outputs": [],
   "source": [
    "# Create a Beautiful Soup object\n",
    "html = browser.html\n",
    "sp = soup(html, 'html.parser')\n",
    "\n",
    "results = sp.find_all('div', class_='list_text')"
   ]
  },
  {
   "cell_type": "markdown",
   "id": "29ed2342",
   "metadata": {},
   "source": [
    "# Third Step: Store Results"
   ]
  },
  {
   "cell_type": "code",
   "execution_count": 17,
   "id": "71d38d25",
   "metadata": {},
   "outputs": [],
   "source": [
    "# Create an empty list which will allow dictionaries to be stored\n",
    "mars_data_news = []"
   ]
  },
  {
   "cell_type": "code",
   "execution_count": 18,
   "id": "22dadba6",
   "metadata": {},
   "outputs": [],
   "source": [
    "# Use for loops to loop through the text\n",
    "for result in results:\n",
    "    \n",
    "    # Extract the title and preview texts\n",
    "    title = result.find('div', class_='content_title').text\n",
    "    preview = result.find('div', class_='article_teaser_body').text\n",
    "    \n",
    "    # Store each title using dictionary and add this to the list.\n",
    "    mars_news = {\n",
    "        \"title\": title,\n",
    "        \"preview\": preview\n",
    "    }\n",
    "    \n",
    "    mars_data_news.append(mars_news)"
   ]
  },
  {
   "cell_type": "code",
   "execution_count": 19,
   "id": "8e8122f7",
   "metadata": {},
   "outputs": [
    {
     "data": {
      "text/plain": [
       "[{'title': \"Meet the People Behind NASA's Perseverance Rover\",\n",
       "  'preview': \"These are the scientists and engineers who built NASA's next Mars rover and who will guide it to a safe landing in Jezero Crater. \"},\n",
       " {'title': 'NASA to Reveal Name of Its Next Mars Rover',\n",
       "  'preview': \"After a months-long contest among students to name NASA's newest Mars rover, the agency will reveal the winning name — and the winning student — this Thursday. \"},\n",
       " {'title': \"NASA's Mars Perseverance Rover Passes Flight Readiness Review\",\n",
       "  'preview': \"\\u200bThe agency's Mars 2020 mission has one more big prelaunch review – the Launch Readiness Review, on July 27.\"},\n",
       " {'title': 'Scientists Explore Outback as Testbed for Mars ',\n",
       "  'preview': \"Australia provides a great place for NASA's Mars 2020 and the ESA-Roscosmos ExoMars scientists to hone techniques in preparation for searching for signs ancient life on Mars.\"},\n",
       " {'title': \"NASA's Perseverance Rover Will Peer Beneath Mars' Surface \",\n",
       "  'preview': \"The agency's newest rover will use the first ground-penetrating radar instrument on the Martian surface to help search for signs of past microbial life. \"},\n",
       " {'title': \"NASA's Curiosity Takes Selfie With 'Mary Anning' on the Red Planet\",\n",
       "  'preview': 'The Mars rover has drilled three samples of rock in this clay-enriched region since arriving in July.'},\n",
       " {'title': \"6 Things to Know About NASA's Ingenuity Mars Helicopter\",\n",
       "  'preview': 'The first helicopter attempting to fly on another planet is a marvel of engineering. Get up to speed with these key facts about its plans.'},\n",
       " {'title': 'NASA to Hold Mars 2020 Perseverance Rover Launch Briefing',\n",
       "  'preview': \"Learn more about the agency's next Red Planet mission during a live event on June 17.\"},\n",
       " {'title': 'Two Rovers to Roll on Mars Again: Curiosity and Mars 2020',\n",
       "  'preview': 'They look like twins. But under the hood, the rover currently exploring the Red Planet and the one launching there this summer have distinct science tools and roles to play.'},\n",
       " {'title': \"NASA's Perseverance Rover Is Midway to Mars \",\n",
       "  'preview': \"Sometimes half measures can be a good thing – especially on a journey this long. The agency's latest rover only has about 146 million miles left to reach its destination.\"},\n",
       " {'title': \"NASA's Perseverance Rover Will Look at Mars Through These 'Eyes'\",\n",
       "  'preview': 'A pair of zoomable cameras will help scientists and rover drivers with high-resolution color images.'},\n",
       " {'title': 'AI Is Helping Scientists Discover Fresh Craters on Mars',\n",
       "  'preview': \"It's the first time machine learning has been used to find previously unknown craters on the Red Planet.\"},\n",
       " {'title': 'Global Storms on Mars Launch Dust Towers Into the Sky',\n",
       "  'preview': 'A Mars Dust Tower Stands Out Dust storms are common on Mars. But every decade or so, something unpredictable happens: a series of runaway storms break out, covering the entire planet in a dusty haze.'},\n",
       " {'title': \"Mars Helicopter Attached to NASA's Perseverance Rover\",\n",
       "  'preview': \"The team also fueled the rover's sky crane to get ready for this summer's history-making launch.\"},\n",
       " {'title': 'NASA Wins Two Emmy Awards for Interactive Mission Coverage',\n",
       "  'preview': \"NASA-JPL's coverage of the Mars InSight landing earns one of the two wins, making this the NASA center's second Emmy.\"}]"
      ]
     },
     "execution_count": 19,
     "metadata": {},
     "output_type": "execute_result"
    }
   ],
   "source": [
    "mars_data_news"
   ]
  },
  {
   "cell_type": "code",
   "execution_count": 20,
   "id": "2ed4b782",
   "metadata": {},
   "outputs": [],
   "source": [
    "browser.quit()"
   ]
  },
  {
   "cell_type": "markdown",
   "id": "88366bf7",
   "metadata": {},
   "source": [
    "# Fourth Step: Export the Data"
   ]
  },
  {
   "cell_type": "code",
   "execution_count": 21,
   "id": "a5fce956",
   "metadata": {},
   "outputs": [],
   "source": [
    "# Convert mars_data_news list of dictionaries to JSON string\n",
    "json_news = json.dumps(mars_data_news)\n",
    "\n",
    "# Create a JSON file\n",
    "json_news_file = open(\"./output_files/mars_data_news.json\", \"w\")\n",
    "\n",
    "# Write the JSON string into the JSON file above\n",
    "json_news_file.write(json_news)\n",
    "\n",
    "# Close the JSON file\n",
    "json_news_file.close()"
   ]
  },
  {
   "cell_type": "code",
   "execution_count": null,
   "id": "823570fa",
   "metadata": {},
   "outputs": [],
   "source": []
  }
 ],
 "metadata": {
  "kernelspec": {
   "display_name": "Python 3 (ipykernel)",
   "language": "python",
   "name": "python3"
  },
  "language_info": {
   "codemirror_mode": {
    "name": "ipython",
    "version": 3
   },
   "file_extension": ".py",
   "mimetype": "text/x-python",
   "name": "python",
   "nbconvert_exporter": "python",
   "pygments_lexer": "ipython3",
   "version": "3.9.12"
  }
 },
 "nbformat": 4,
 "nbformat_minor": 5
}
